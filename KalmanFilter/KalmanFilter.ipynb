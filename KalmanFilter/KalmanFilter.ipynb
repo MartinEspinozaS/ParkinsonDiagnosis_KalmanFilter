{
 "cells": [
  {
   "cell_type": "code",
   "execution_count": 1,
   "id": "386f9e5a",
   "metadata": {},
   "outputs": [],
   "source": [
    "import pandas as pd\n",
    "from filterpy.kalman import KalmanFilter\n",
    "import numpy as np\n",
    "\n",
    "environment_path = \"C:\\\\MARTIN EDUARDO\\\\University Of Leeds\\\\Dissertation\\\\Classification_bradykinesia_KalmanFilter\"\n",
    "videos_file_path = \"\\\\mediaPipe_videos.csv\"\n",
    "csv_file = environment_path + \"\\\\\" +'KalmanFilter_videos.csv'\n",
    "df = pd.read_csv(environment_path + videos_file_path )"
   ]
  },
  {
   "cell_type": "code",
   "execution_count": 2,
   "id": "91f73c12",
   "metadata": {},
   "outputs": [],
   "source": [
    "def create_kalman_filter():\n",
    "    kf = KalmanFilter(dim_x=4, dim_z=2)\n",
    "    dt = 1.0  # time between measurements is 1\n",
    "    # state transition matrix\n",
    "    kf.F = np.array([[1, dt, 0, 0],\n",
    "                     [0, 1,  0, 0],\n",
    "                     [0, 0, 1, dt],\n",
    "                     [0, 0, 0, 1]])\n",
    "    # measurement matrix\n",
    "    kf.H = np.array([[1, 0, 0, 0],\n",
    "                     [0, 0, 1, 0]])\n",
    "    # process covariance matrix\n",
    "    kf.Q = np.eye(4) * 0.001\n",
    "    # measurement covariance matrix (4 pixels)\n",
    "    kf.R = np.eye(2) * 0.1\n",
    "    # initial state covariance matrix\n",
    "    kf.P = np.eye(4) * 1\n",
    "    return kf\n",
    "\n",
    "kf_finger = create_kalman_filter()\n",
    "kf_thumb = create_kalman_filter()"
   ]
  },
  {
   "cell_type": "code",
   "execution_count": 3,
   "id": "a880edc9",
   "metadata": {},
   "outputs": [
    {
     "name": "stdout",
     "output_type": "stream",
     "text": [
      "Finished\n"
     ]
    }
   ],
   "source": [
    "finger_x = []\n",
    "finger_y = []\n",
    "thumb_x = []\n",
    "thumb_y = []\n",
    "\n",
    "# apply Kalman filter\n",
    "for index, row in df.iterrows():\n",
    "    # index finger\n",
    "    z_finger = np.array([row['finger_x'], row['finger_y']])\n",
    "    kf_finger.predict()\n",
    "    kf_finger.update(z_finger)\n",
    "    finger_x.append(kf_finger.x[0, 0])  \n",
    "    finger_y.append(kf_finger.x[2, 0]) \n",
    "    \n",
    "    # thumb\n",
    "    z_thumb = np.array([row['thumb_x'], row['thumb_y']])\n",
    "    kf_thumb.predict()\n",
    "    kf_thumb.update(z_thumb)\n",
    "    thumb_x.append(kf_thumb.x[0, 0])\n",
    "    thumb_y.append(kf_thumb.x[2, 0]) \n",
    "\n",
    "filtered_df = pd.DataFrame({\n",
    "    'image_name': df['image_name'],\n",
    "    'finger_x': finger_x,\n",
    "    'finger_y': finger_y,\n",
    "    'thumb_x': thumb_x,\n",
    "    'thumb_y': thumb_y\n",
    "})\n",
    "\n",
    "filtered_df.to_csv(csv_file, index=False)\n",
    "print(\"Finished\")"
   ]
  },
  {
   "cell_type": "code",
   "execution_count": 4,
   "id": "71fa1341",
   "metadata": {},
   "outputs": [
    {
     "data": {
      "text/plain": [
       "'\\nNOTES:\\nF: state transition matrix that models how the state evolves over time.\\nH: measurement matrix indicating how the state relates to the measurements.\\nQ: process covariance that models noise in the underlying process (uncertainty in the prediction of the next state)\\nR: measurement covariance that models noise in measurements (noise in measurements).\\nP: covariance of the initial state that defines the initial uncertainty about the state (initial uncertainty about the state).\\n'"
      ]
     },
     "execution_count": 4,
     "metadata": {},
     "output_type": "execute_result"
    }
   ],
   "source": [
    "\"\"\"\n",
    "NOTES:\n",
    "F: state transition matrix that models how the state evolves over time.\n",
    "H: measurement matrix indicating how the state relates to the measurements.\n",
    "Q: process covariance that models noise in the underlying process (uncertainty in the prediction of the next state)\n",
    "R: measurement covariance that models noise in measurements (noise in measurements).\n",
    "P: covariance of the initial state that defines the initial uncertainty about the state (initial uncertainty about the state).\n",
    "\"\"\""
   ]
  }
 ],
 "metadata": {
  "kernelspec": {
   "display_name": "Python 3",
   "language": "python",
   "name": "python3"
  },
  "language_info": {
   "codemirror_mode": {
    "name": "ipython",
    "version": 3
   },
   "file_extension": ".py",
   "mimetype": "text/x-python",
   "name": "python",
   "nbconvert_exporter": "python",
   "pygments_lexer": "ipython3",
   "version": "3.6.13"
  }
 },
 "nbformat": 4,
 "nbformat_minor": 5
}
